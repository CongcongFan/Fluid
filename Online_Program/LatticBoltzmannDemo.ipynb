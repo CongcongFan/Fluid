{
 "cells": [
  {
   "cell_type": "code",
   "execution_count": null,
   "metadata": {},
   "outputs": [],
   "source": [
    "# LatticeBoltzmannDemo.py:  a two-dimensional lattice-Boltzmann \"wind tunnel\" simulation\n",
    "# Uses numpy to speed up all array handling.\n",
    "# Uses matplotlib to plot and animate the curl of the macroscopic velocity field.\n",
    "\n",
    "# Copyright 2013, Daniel V. Schroeder (Weber State University) 2013\n",
    "\n",
    "# Permission is hereby granted, free of charge, to any person obtaining a copy of \n",
    "# this software and associated data and documentation (the \"Software\"), to deal in \n",
    "# the Software without restriction, including without limitation the rights to \n",
    "# use, copy, modify, merge, publish, distribute, sublicense, and/or sell copies \n",
    "# of the Software, and to permit persons to whom the Software is furnished to do \n",
    "# so, subject to the following conditions:\n",
    "\n",
    "# The above copyright notice and this permission notice shall be included in all \n",
    "# copies or substantial portions of the Software.\n",
    "\n",
    "# THE SOFTWARE IS PROVIDED \"AS IS\", WITHOUT WARRANTY OF ANY KIND, EXPRESS OR IMPLIED, \n",
    "# INCLUDING BUT NOT LIMITED TO THE WARRANTIES OF MERCHANTABILITY, FITNESS FOR A \n",
    "# PARTICULAR PURPOSE AND NONINFRINGEMENT. IN NO EVENT SHALL THE AUTHOR BE LIABLE FOR \n",
    "# ANY CLAIM, DAMAGES OR OTHER LIABILITY, WHETHER IN AN ACTION OF CONTRACT, TORT OR \n",
    "# OTHERWISE, ARISING FROM, OUT OF OR IN CONNECTION WITH THE SOFTWARE OR THE USE OR \n",
    "# OTHER DEALINGS IN THE SOFTWARE.\n",
    "\n",
    "# Except as contained in this notice, the name of the author shall not be used in \n",
    "# advertising or otherwise to promote the sale, use or other dealings in this \n",
    "# Software without prior written authorization.\n",
    "\n",
    "# Credits:\n",
    "# The \"wind tunnel\" entry/exit conditions are inspired by Graham Pullan's code\n",
    "# (http://www.many-core.group.cam.ac.uk/projects/LBdemo.shtml).  Additional inspiration from \n",
    "# Thomas Pohl's applet (http://thomas-pohl.info/work/lba.html).  Other portions of code are based \n",
    "# on Wagner (http://www.ndsu.edu/physics/people/faculty/wagner/lattice_boltzmann_codes/) and\n",
    "# Gonsalves (http://www.physics.buffalo.edu/phy411-506-2004/index.html; code adapted from Succi,\n",
    "# http://global.oup.com/academic/product/the-lattice-boltzmann-equation-9780199679249).\n",
    "\n",
    "# For related materials see http://physics.weber.edu/schroeder/fluids\n"
   ]
  },
  {
   "cell_type": "code",
   "execution_count": 9,
   "metadata": {},
   "outputs": [
    {
     "data": {
      "image/png": "[encoded data removed]",
      "text/plain": [
       "<Figure size 576x216 with 1 Axes>"
      ]
     },
     "metadata": {
      "needs_background": "light"
     },
     "output_type": "display_data"
    }
   ],
   "source": [
    "\n",
    "import numpy, time, matplotlib.pyplot, matplotlib.animation\n",
    "\n",
    "# Define constants:\n",
    "height = 80\t\t\t\t\t\t\t# lattice dimensions\n",
    "width = 200\n",
    "viscosity = 0.02\t\t\t\t\t# fluid viscosity\n",
    "omega = 1 / (3*viscosity + 0.5)\t\t# \"relaxation\" parameter\n",
    "u0 = 0.1\t\t\t\t\t\t\t# initial and in-flow speed\n",
    "four9ths = 4.0/9.0\t\t\t\t\t# abbreviations for lattice-Boltzmann weight factors\n",
    "one9th   = 1.0/9.0\n",
    "one36th  = 1.0/36.0\n",
    "performanceData = True\t\t\t\t# set to True if performance data is desired\n",
    "\n",
    "# Initialize all the arrays to steady rightward flow:\n",
    "n0 = four9ths * (numpy.ones((height,width)) - 1.5*u0**2)\t# particle densities along 9 directions\n",
    "nN = one9th * (numpy.ones((height,width)) - 1.5*u0**2)\n",
    "nS = one9th * (numpy.ones((height,width)) - 1.5*u0**2)\n",
    "nE = one9th * (numpy.ones((height,width)) + 3*u0 + 4.5*u0**2 - 1.5*u0**2)\n",
    "nW = one9th * (numpy.ones((height,width)) - 3*u0 + 4.5*u0**2 - 1.5*u0**2)\n",
    "nNE = one36th * (numpy.ones((height,width)) + 3*u0 + 4.5*u0**2 - 1.5*u0**2)\n",
    "nSE = one36th * (numpy.ones((height,width)) + 3*u0 + 4.5*u0**2 - 1.5*u0**2)\n",
    "nNW = one36th * (numpy.ones((height,width)) - 3*u0 + 4.5*u0**2 - 1.5*u0**2)\n",
    "nSW = one36th * (numpy.ones((height,width)) - 3*u0 + 4.5*u0**2 - 1.5*u0**2)\n",
    "rho = n0 + nN + nS + nE + nW + nNE + nSE + nNW + nSW\t\t# macroscopic density\n",
    "ux = (nE + nNE + nSE - nW - nNW - nSW) / rho\t\t\t\t# macroscopic x velocity\n",
    "uy = (nN + nNE + nNW - nS - nSE - nSW) / rho\t\t\t\t# macroscopic y velocity\n",
    "\n",
    "# Initialize barriers:\n",
    "barrier = numpy.zeros((height,width), bool)\t\t\t\t\t# True wherever there's a barrier\n",
    "barrier[int((height/2)-8):int((height/2)+8), int(height/2)] = True\t\t\t# simple linear barrier\n",
    "barrierN = numpy.roll(barrier,  1, axis=0)\t\t\t\t\t# sites just north of barriers\n",
    "barrierS = numpy.roll(barrier, -1, axis=0)\t\t\t\t\t# sites just south of barriers\n",
    "barrierE = numpy.roll(barrier,  1, axis=1)\t\t\t\t\t# etc.\n",
    "barrierW = numpy.roll(barrier, -1, axis=1)\n",
    "barrierNE = numpy.roll(barrierN,  1, axis=1)\n",
    "barrierNW = numpy.roll(barrierN, -1, axis=1)\n",
    "barrierSE = numpy.roll(barrierS,  1, axis=1)\n",
    "barrierSW = numpy.roll(barrierS, -1, axis=1)\n",
    "\n",
    "# Move all particles by one step along their directions of motion (pbc):\n",
    "def stream():\n",
    "\tglobal nN, nS, nE, nW, nNE, nNW, nSE, nSW\n",
    "\tnN  = numpy.roll(nN,   1, axis=0)\t# axis 0 is north-south; + direction is north\n",
    "\tnNE = numpy.roll(nNE,  1, axis=0)\n",
    "\tnNW = numpy.roll(nNW,  1, axis=0)\n",
    "\tnS  = numpy.roll(nS,  -1, axis=0)\n",
    "\tnSE = numpy.roll(nSE, -1, axis=0)\n",
    "\tnSW = numpy.roll(nSW, -1, axis=0)\n",
    "\tnE  = numpy.roll(nE,   1, axis=1)\t# axis 1 is east-west; + direction is east\n",
    "\tnNE = numpy.roll(nNE,  1, axis=1)\n",
    "\tnSE = numpy.roll(nSE,  1, axis=1)\n",
    "\tnW  = numpy.roll(nW,  -1, axis=1)\n",
    "\tnNW = numpy.roll(nNW, -1, axis=1)\n",
    "\tnSW = numpy.roll(nSW, -1, axis=1)\n",
    "\t# Use tricky boolean arrays to handle barrier collisions (bounce-back):\n",
    "\tnN[barrierN] = nS[barrier]\n",
    "\tnS[barrierS] = nN[barrier]\n",
    "\tnE[barrierE] = nW[barrier]\n",
    "\tnW[barrierW] = nE[barrier]\n",
    "\tnNE[barrierNE] = nSW[barrier]\n",
    "\tnNW[barrierNW] = nSE[barrier]\n",
    "\tnSE[barrierSE] = nNW[barrier]\n",
    "\tnSW[barrierSW] = nNE[barrier]\n",
    "\t\t\n",
    "# Collide particles within each cell to redistribute velocities (could be optimized a little more):\n",
    "def collide():\n",
    "\tglobal rho, ux, uy, n0, nN, nS, nE, nW, nNE, nNW, nSE, nSW\n",
    "\trho = n0 + nN + nS + nE + nW + nNE + nSE + nNW + nSW\n",
    "\tux = (nE + nNE + nSE - nW - nNW - nSW) / rho\n",
    "\tuy = (nN + nNE + nNW - nS - nSE - nSW) / rho\n",
    "\tux2 = ux * ux\t\t\t\t# pre-compute terms used repeatedly...\n",
    "\tuy2 = uy * uy\n",
    "\tu2 = ux2 + uy2\n",
    "\tomu215 = 1 - 1.5*u2\t\t\t# \"one minus u2 times 1.5\"\n",
    "\tuxuy = ux * uy\n",
    "\tn0 = (1-omega)*n0 + omega * four9ths * rho * omu215\n",
    "\tnN = (1-omega)*nN + omega * one9th * rho * (omu215 + 3*uy + 4.5*uy2)\n",
    "\tnS = (1-omega)*nS + omega * one9th * rho * (omu215 - 3*uy + 4.5*uy2)\n",
    "\tnE = (1-omega)*nE + omega * one9th * rho * (omu215 + 3*ux + 4.5*ux2)\n",
    "\tnW = (1-omega)*nW + omega * one9th * rho * (omu215 - 3*ux + 4.5*ux2)\n",
    "\tnNE = (1-omega)*nNE + omega * one36th * rho * (omu215 + 3*(ux+uy) + 4.5*(u2+2*uxuy))\n",
    "\tnNW = (1-omega)*nNW + omega * one36th * rho * (omu215 + 3*(-ux+uy) + 4.5*(u2-2*uxuy))\n",
    "\tnSE = (1-omega)*nSE + omega * one36th * rho * (omu215 + 3*(ux-uy) + 4.5*(u2-2*uxuy))\n",
    "\tnSW = (1-omega)*nSW + omega * one36th * rho * (omu215 + 3*(-ux-uy) + 4.5*(u2+2*uxuy))\n",
    "\t# Force steady rightward flow at ends (no need to set 0, N, and S components):\n",
    "\tnE[:,0] = one9th * (1 + 3*u0 + 4.5*u0**2 - 1.5*u0**2)\n",
    "\tnW[:,0] = one9th * (1 - 3*u0 + 4.5*u0**2 - 1.5*u0**2)\n",
    "\tnNE[:,0] = one36th * (1 + 3*u0 + 4.5*u0**2 - 1.5*u0**2)\n",
    "\tnSE[:,0] = one36th * (1 + 3*u0 + 4.5*u0**2 - 1.5*u0**2)\n",
    "\tnNW[:,0] = one36th * (1 - 3*u0 + 4.5*u0**2 - 1.5*u0**2)\n",
    "\tnSW[:,0] = one36th * (1 - 3*u0 + 4.5*u0**2 - 1.5*u0**2)\n",
    "\n",
    "# Compute curl of the macroscopic velocity field:\n",
    "def curl(ux, uy):\n",
    "\treturn numpy.roll(uy,-1,axis=1) - numpy.roll(uy,1,axis=1) - numpy.roll(ux,-1,axis=0) + numpy.roll(ux,1,axis=0)\n",
    "\n",
    "# Here comes the graphics and animation...\n",
    "theFig = matplotlib.pyplot.figure(figsize=(8,3))\n",
    "fluidImage = matplotlib.pyplot.imshow(curl(ux, uy), origin='lower', norm=matplotlib.pyplot.Normalize(-.1,.1), \n",
    "\t\t\t\t\t\t\t\t\tcmap=matplotlib.pyplot.get_cmap('jet'), interpolation='none')\n",
    "\t\t# See http://www.loria.fr/~rougier/teaching/matplotlib/#colormaps for other cmap options\n",
    "bImageArray = numpy.zeros((height, width, 4), numpy.uint8)\t# an RGBA image\n",
    "bImageArray[barrier,3] = 255\t\t\t\t\t\t\t\t# set alpha=255 only at barrier sites\n",
    "barrierImage = matplotlib.pyplot.imshow(bImageArray, origin='lower', interpolation='none')\n",
    "\n",
    "# Function called for each successive animation frame:\n",
    "startTime = time.time()\n",
    "#frameList = open('frameList.txt','w')\t\t# file containing list of images (to make movie)\n",
    "def nextFrame(arg):\t\t\t\t\t\t\t# (arg is the frame number, which we don't need)\n",
    "\tglobal startTime\n",
    "\tif performanceData and (arg%100 == 0) and (arg > 0):\n",
    "\t\tendTime = time.time()\n",
    "\t\tprint (\"%1.1f\" % (100/(endTime-startTime)), 'frames per second')\n",
    "\t\tstartTime = endTime\n",
    "\t#frameName = \"frame%04d.png\" % arg\n",
    "\t#matplotlib.pyplot.savefig(frameName)\n",
    "\t#frameList.write(frameName + '\\n')\n",
    "\tfor step in range(500):\t\t\t\t\t# adjust number of steps for smooth animation\n",
    "\t\tstream()\n",
    "\t\tcollide()\n",
    "\tfluidImage.set_array(curl(ux, uy))\n",
    "\treturn (fluidImage, barrierImage)\t\t# return the figure elements to redraw\n",
    "\n",
    "animate = matplotlib.animation.FuncAnimation(theFig, nextFrame, interval=1, blit=True)\n",
    "matplotlib.pyplot.show()"
   ]
  },
  {
   "cell_type": "code",
   "execution_count": 4,
   "metadata": {},
   "outputs": [
    {
     "data": {
      "text/plain": [
       "(32.0, 48.0)"
      ]
     },
     "execution_count": 4,
     "metadata": {},
     "output_type": "execute_result"
    }
   ],
   "source": [
    "(height/2)-8,(height/2)+8"
   ]
  },
  {
   "cell_type": "code",
   "execution_count": 1,
   "metadata": {},
   "outputs": [
    {
     "name": "stderr",
     "output_type": "stream",
     "text": [
      "100%|██████████| 1000/1000 [02:06<00:00,  7.92it/s]\n"
     ]
    },
    {
     "name": "stdout",
     "output_type": "stream",
     "text": [
      "\n",
      " U velocity is: \n",
      "[[-0.00000000e+00  0.00000000e+00  0.00000000e+00 ...  0.00000000e+00\n",
      "   0.00000000e+00  2.00000000e+00]\n",
      " [-1.12398467e-03  1.12398467e-03  1.92099143e-03 ... -2.48767190e-02\n",
      "   2.62485787e-01  1.73751421e+00]\n",
      " [-1.63077723e-03  1.63077723e-03  3.25324795e-03 ...  6.44116686e-02\n",
      "   4.78346267e-01  1.52165373e+00]\n",
      " ...\n",
      " [-6.56065795e-04  6.56065795e-04  1.30798221e-03 ...  1.41899364e-01\n",
      "   5.37988576e-01  1.46201142e+00]\n",
      " [-3.90385873e-04  3.90385873e-04  7.03354451e-04 ...  6.23552130e-03\n",
      "   2.96275985e-01  1.70372401e+00]\n",
      " [-0.00000000e+00  0.00000000e+00  0.00000000e+00 ...  0.00000000e+00\n",
      "   0.00000000e+00  2.00000000e+00]]\n",
      "\n",
      " V velocity is: \n",
      "[[ 0.00000000e+00 -1.10163267e-03 -1.48001950e-03 ... -2.34221815e-01\n",
      "  -2.60741346e-01  0.00000000e+00]\n",
      " [ 0.00000000e+00  1.10163267e-03  1.48001950e-03 ...  2.34221815e-01\n",
      "   2.60741346e-01  0.00000000e+00]\n",
      " [ 0.00000000e+00  1.78789390e-03  2.78777909e-03 ...  3.01980011e-01\n",
      "   2.14254808e-01  0.00000000e+00]\n",
      " ...\n",
      " [ 0.00000000e+00 -5.23002251e-04 -7.58106982e-04 ... -3.69976554e-01\n",
      "  -2.37978337e-01  0.00000000e+00]\n",
      " [ 0.00000000e+00 -3.29724319e-04 -4.24137129e-04 ... -2.94983991e-01\n",
      "  -2.92473068e-01  0.00000000e+00]\n",
      " [ 0.00000000e+00  3.29724319e-04  4.24137129e-04 ...  2.94983991e-01\n",
      "   2.92473068e-01  0.00000000e+00]]\n",
      "\n",
      " Pressure distribution is: \n",
      "[[ 1.13580445  1.13580445  1.13337286 ... -0.22280577 -1.08765925\n",
      "  -1.08765925]\n",
      " [ 1.13580445  1.13580445  1.13337286 ... -0.22280577 -1.08765925\n",
      "  -1.08765925]\n",
      " [ 1.13355411  1.13355411  1.13199957 ...  0.11381314 -0.02114952\n",
      "  -0.02114952]\n",
      " ...\n",
      " [ 0.86919512  0.86919512  0.86985463 ...  2.47173821  2.66757864\n",
      "   2.66757864]\n",
      " [ 0.86843679  0.86843679  0.86930108 ...  2.90363532  3.84584449\n",
      "   3.84584449]\n",
      " [ 0.86843679  0.86843679  0.86930108 ...  2.90363532  3.84584449\n",
      "   3.84584449]]\n"
     ]
    },
    {
     "ename": "TypeError",
     "evalue": "Length of x (101) must match number of columns in z (102)",
     "output_type": "error",
     "traceback": [
      "\u001b[0;31m---------------------------------------------------------------------------\u001b[0m",
      "\u001b[0;31mTypeError\u001b[0m                                 Traceback (most recent call last)",
      "\u001b[1;32m/Users/cong/Desktop/Work zone/Fluids/FDM_FVM_Codes/Online_Program/LatticBoltzmannDemo.ipynb Cell 4\u001b[0m in \u001b[0;36m<cell line: 77>\u001b[0;34m()\u001b[0m\n\u001b[1;32m     <a href='vscode-notebook-cell:/Users/cong/Desktop/Work%20zone/Fluids/FDM_FVM_Codes/Online_Program/LatticBoltzmannDemo.ipynb#W3sZmlsZQ%3D%3D?line=74'>75</a>\u001b[0m x_u \u001b[39m=\u001b[39m np\u001b[39m.\u001b[39mlinspace(\u001b[39m0\u001b[39m, x_len, x_points\u001b[39m+\u001b[39m\u001b[39m1\u001b[39m)\n\u001b[1;32m     <a href='vscode-notebook-cell:/Users/cong/Desktop/Work%20zone/Fluids/FDM_FVM_Codes/Online_Program/LatticBoltzmannDemo.ipynb#W3sZmlsZQ%3D%3D?line=75'>76</a>\u001b[0m y_u \u001b[39m=\u001b[39m np\u001b[39m.\u001b[39mlinspace(\u001b[39m0\u001b[39m, y_len, y_points)\n\u001b[0;32m---> <a href='vscode-notebook-cell:/Users/cong/Desktop/Work%20zone/Fluids/FDM_FVM_Codes/Online_Program/LatticBoltzmannDemo.ipynb#W3sZmlsZQ%3D%3D?line=76'>77</a>\u001b[0m plt\u001b[39m.\u001b[39;49mcontourf(y_u, x_u, u_new)\n\u001b[1;32m     <a href='vscode-notebook-cell:/Users/cong/Desktop/Work%20zone/Fluids/FDM_FVM_Codes/Online_Program/LatticBoltzmannDemo.ipynb#W3sZmlsZQ%3D%3D?line=77'>78</a>\u001b[0m plt\u001b[39m.\u001b[39mcolorbar()\n\u001b[1;32m     <a href='vscode-notebook-cell:/Users/cong/Desktop/Work%20zone/Fluids/FDM_FVM_Codes/Online_Program/LatticBoltzmannDemo.ipynb#W3sZmlsZQ%3D%3D?line=78'>79</a>\u001b[0m plt\u001b[39m.\u001b[39mxlabel(\u001b[39m\"\u001b[39m\u001b[39mx\u001b[39m\u001b[39m\"\u001b[39m)\n",
      "File \u001b[0;32m~/opt/anaconda3/lib/python3.8/site-packages/matplotlib/pyplot.py:2482\u001b[0m, in \u001b[0;36mcontourf\u001b[0;34m(data, *args, **kwargs)\u001b[0m\n\u001b[1;32m   2480\u001b[0m \u001b[39m@_copy_docstring_and_deprecators\u001b[39m(Axes\u001b[39m.\u001b[39mcontourf)\n\u001b[1;32m   2481\u001b[0m \u001b[39mdef\u001b[39;00m \u001b[39mcontourf\u001b[39m(\u001b[39m*\u001b[39margs, data\u001b[39m=\u001b[39m\u001b[39mNone\u001b[39;00m, \u001b[39m*\u001b[39m\u001b[39m*\u001b[39mkwargs):\n\u001b[0;32m-> 2482\u001b[0m     __ret \u001b[39m=\u001b[39m gca()\u001b[39m.\u001b[39;49mcontourf(\n\u001b[1;32m   2483\u001b[0m         \u001b[39m*\u001b[39;49margs, \u001b[39m*\u001b[39;49m\u001b[39m*\u001b[39;49m({\u001b[39m\"\u001b[39;49m\u001b[39mdata\u001b[39;49m\u001b[39m\"\u001b[39;49m: data} \u001b[39mif\u001b[39;49;00m data \u001b[39mis\u001b[39;49;00m \u001b[39mnot\u001b[39;49;00m \u001b[39mNone\u001b[39;49;00m \u001b[39melse\u001b[39;49;00m {}),\n\u001b[1;32m   2484\u001b[0m         \u001b[39m*\u001b[39;49m\u001b[39m*\u001b[39;49mkwargs)\n\u001b[1;32m   2485\u001b[0m     \u001b[39mif\u001b[39;00m __ret\u001b[39m.\u001b[39m_A \u001b[39mis\u001b[39;00m \u001b[39mnot\u001b[39;00m \u001b[39mNone\u001b[39;00m: sci(__ret)  \u001b[39m# noqa\u001b[39;00m\n\u001b[1;32m   2486\u001b[0m     \u001b[39mreturn\u001b[39;00m __ret\n",
      "File \u001b[0;32m~/opt/anaconda3/lib/python3.8/site-packages/matplotlib/__init__.py:1412\u001b[0m, in \u001b[0;36m_preprocess_data.<locals>.inner\u001b[0;34m(ax, data, *args, **kwargs)\u001b[0m\n\u001b[1;32m   1409\u001b[0m \u001b[39m@functools\u001b[39m\u001b[39m.\u001b[39mwraps(func)\n\u001b[1;32m   1410\u001b[0m \u001b[39mdef\u001b[39;00m \u001b[39minner\u001b[39m(ax, \u001b[39m*\u001b[39margs, data\u001b[39m=\u001b[39m\u001b[39mNone\u001b[39;00m, \u001b[39m*\u001b[39m\u001b[39m*\u001b[39mkwargs):\n\u001b[1;32m   1411\u001b[0m     \u001b[39mif\u001b[39;00m data \u001b[39mis\u001b[39;00m \u001b[39mNone\u001b[39;00m:\n\u001b[0;32m-> 1412\u001b[0m         \u001b[39mreturn\u001b[39;00m func(ax, \u001b[39m*\u001b[39;49m\u001b[39mmap\u001b[39;49m(sanitize_sequence, args), \u001b[39m*\u001b[39;49m\u001b[39m*\u001b[39;49mkwargs)\n\u001b[1;32m   1414\u001b[0m     bound \u001b[39m=\u001b[39m new_sig\u001b[39m.\u001b[39mbind(ax, \u001b[39m*\u001b[39margs, \u001b[39m*\u001b[39m\u001b[39m*\u001b[39mkwargs)\n\u001b[1;32m   1415\u001b[0m     auto_label \u001b[39m=\u001b[39m (bound\u001b[39m.\u001b[39marguments\u001b[39m.\u001b[39mget(label_namer)\n\u001b[1;32m   1416\u001b[0m                   \u001b[39mor\u001b[39;00m bound\u001b[39m.\u001b[39mkwargs\u001b[39m.\u001b[39mget(label_namer))\n",
      "File \u001b[0;32m~/opt/anaconda3/lib/python3.8/site-packages/matplotlib/axes/_axes.py:6317\u001b[0m, in \u001b[0;36mAxes.contourf\u001b[0;34m(self, *args, **kwargs)\u001b[0m\n\u001b[1;32m   6308\u001b[0m \u001b[39m\"\"\"\u001b[39;00m\n\u001b[1;32m   6309\u001b[0m \u001b[39mPlot filled contours.\u001b[39;00m\n\u001b[1;32m   6310\u001b[0m \n\u001b[0;32m   (...)\u001b[0m\n\u001b[1;32m   6314\u001b[0m \u001b[39m%(contour_doc)s\u001b[39;00m\n\u001b[1;32m   6315\u001b[0m \u001b[39m\"\"\"\u001b[39;00m\n\u001b[1;32m   6316\u001b[0m kwargs[\u001b[39m'\u001b[39m\u001b[39mfilled\u001b[39m\u001b[39m'\u001b[39m] \u001b[39m=\u001b[39m \u001b[39mTrue\u001b[39;00m\n\u001b[0;32m-> 6317\u001b[0m contours \u001b[39m=\u001b[39m mcontour\u001b[39m.\u001b[39;49mQuadContourSet(\u001b[39mself\u001b[39;49m, \u001b[39m*\u001b[39;49margs, \u001b[39m*\u001b[39;49m\u001b[39m*\u001b[39;49mkwargs)\n\u001b[1;32m   6318\u001b[0m \u001b[39mself\u001b[39m\u001b[39m.\u001b[39m_request_autoscale_view()\n\u001b[1;32m   6319\u001b[0m \u001b[39mreturn\u001b[39;00m contours\n",
      "File \u001b[0;32m~/opt/anaconda3/lib/python3.8/site-packages/matplotlib/contour.py:812\u001b[0m, in \u001b[0;36mContourSet.__init__\u001b[0;34m(self, ax, levels, filled, linewidths, linestyles, hatches, alpha, origin, extent, cmap, colors, norm, vmin, vmax, extend, antialiased, nchunk, locator, transform, *args, **kwargs)\u001b[0m\n\u001b[1;32m    808\u001b[0m     \u001b[39mself\u001b[39m\u001b[39m.\u001b[39morigin \u001b[39m=\u001b[39m mpl\u001b[39m.\u001b[39mrcParams[\u001b[39m'\u001b[39m\u001b[39mimage.origin\u001b[39m\u001b[39m'\u001b[39m]\n\u001b[1;32m    810\u001b[0m \u001b[39mself\u001b[39m\u001b[39m.\u001b[39m_transform \u001b[39m=\u001b[39m transform\n\u001b[0;32m--> 812\u001b[0m kwargs \u001b[39m=\u001b[39m \u001b[39mself\u001b[39;49m\u001b[39m.\u001b[39;49m_process_args(\u001b[39m*\u001b[39;49margs, \u001b[39m*\u001b[39;49m\u001b[39m*\u001b[39;49mkwargs)\n\u001b[1;32m    813\u001b[0m \u001b[39mself\u001b[39m\u001b[39m.\u001b[39m_process_levels()\n\u001b[1;32m    815\u001b[0m \u001b[39mself\u001b[39m\u001b[39m.\u001b[39m_extend_min \u001b[39m=\u001b[39m \u001b[39mself\u001b[39m\u001b[39m.\u001b[39mextend \u001b[39min\u001b[39;00m [\u001b[39m'\u001b[39m\u001b[39mmin\u001b[39m\u001b[39m'\u001b[39m, \u001b[39m'\u001b[39m\u001b[39mboth\u001b[39m\u001b[39m'\u001b[39m]\n",
      "File \u001b[0;32m~/opt/anaconda3/lib/python3.8/site-packages/matplotlib/contour.py:1441\u001b[0m, in \u001b[0;36mQuadContourSet._process_args\u001b[0;34m(self, corner_mask, *args, **kwargs)\u001b[0m\n\u001b[1;32m   1438\u001b[0m     corner_mask \u001b[39m=\u001b[39m mpl\u001b[39m.\u001b[39mrcParams[\u001b[39m'\u001b[39m\u001b[39mcontour.corner_mask\u001b[39m\u001b[39m'\u001b[39m]\n\u001b[1;32m   1439\u001b[0m \u001b[39mself\u001b[39m\u001b[39m.\u001b[39m_corner_mask \u001b[39m=\u001b[39m corner_mask\n\u001b[0;32m-> 1441\u001b[0m x, y, z \u001b[39m=\u001b[39m \u001b[39mself\u001b[39;49m\u001b[39m.\u001b[39;49m_contour_args(args, kwargs)\n\u001b[1;32m   1443\u001b[0m _mask \u001b[39m=\u001b[39m ma\u001b[39m.\u001b[39mgetmask(z)\n\u001b[1;32m   1444\u001b[0m \u001b[39mif\u001b[39;00m _mask \u001b[39mis\u001b[39;00m ma\u001b[39m.\u001b[39mnomask \u001b[39mor\u001b[39;00m \u001b[39mnot\u001b[39;00m _mask\u001b[39m.\u001b[39many():\n",
      "File \u001b[0;32m~/opt/anaconda3/lib/python3.8/site-packages/matplotlib/contour.py:1480\u001b[0m, in \u001b[0;36mQuadContourSet._contour_args\u001b[0;34m(self, args, kwargs)\u001b[0m\n\u001b[1;32m   1478\u001b[0m     args \u001b[39m=\u001b[39m args[\u001b[39m1\u001b[39m:]\n\u001b[1;32m   1479\u001b[0m \u001b[39melif\u001b[39;00m Nargs \u001b[39m<\u001b[39m\u001b[39m=\u001b[39m \u001b[39m4\u001b[39m:\n\u001b[0;32m-> 1480\u001b[0m     x, y, z \u001b[39m=\u001b[39m \u001b[39mself\u001b[39;49m\u001b[39m.\u001b[39;49m_check_xyz(args[:\u001b[39m3\u001b[39;49m], kwargs)\n\u001b[1;32m   1481\u001b[0m     args \u001b[39m=\u001b[39m args[\u001b[39m3\u001b[39m:]\n\u001b[1;32m   1482\u001b[0m \u001b[39melse\u001b[39;00m:\n",
      "File \u001b[0;32m~/opt/anaconda3/lib/python3.8/site-packages/matplotlib/contour.py:1521\u001b[0m, in \u001b[0;36mQuadContourSet._check_xyz\u001b[0;34m(self, args, kwargs)\u001b[0m\n\u001b[1;32m   1519\u001b[0m ny, \u001b[39m=\u001b[39m y\u001b[39m.\u001b[39mshape\n\u001b[1;32m   1520\u001b[0m \u001b[39mif\u001b[39;00m nx \u001b[39m!=\u001b[39m Nx:\n\u001b[0;32m-> 1521\u001b[0m     \u001b[39mraise\u001b[39;00m \u001b[39mTypeError\u001b[39;00m(\u001b[39mf\u001b[39m\u001b[39m\"\u001b[39m\u001b[39mLength of x (\u001b[39m\u001b[39m{\u001b[39;00mnx\u001b[39m}\u001b[39;00m\u001b[39m) must match number of \u001b[39m\u001b[39m\"\u001b[39m\n\u001b[1;32m   1522\u001b[0m                     \u001b[39mf\u001b[39m\u001b[39m\"\u001b[39m\u001b[39mcolumns in z (\u001b[39m\u001b[39m{\u001b[39;00mNx\u001b[39m}\u001b[39;00m\u001b[39m)\u001b[39m\u001b[39m\"\u001b[39m)\n\u001b[1;32m   1523\u001b[0m \u001b[39mif\u001b[39;00m ny \u001b[39m!=\u001b[39m Ny:\n\u001b[1;32m   1524\u001b[0m     \u001b[39mraise\u001b[39;00m \u001b[39mTypeError\u001b[39;00m(\u001b[39mf\u001b[39m\u001b[39m\"\u001b[39m\u001b[39mLength of y (\u001b[39m\u001b[39m{\u001b[39;00mny\u001b[39m}\u001b[39;00m\u001b[39m) must match number of \u001b[39m\u001b[39m\"\u001b[39m\n\u001b[1;32m   1525\u001b[0m                     \u001b[39mf\u001b[39m\u001b[39m\"\u001b[39m\u001b[39mrows in z (\u001b[39m\u001b[39m{\u001b[39;00mNy\u001b[39m}\u001b[39;00m\u001b[39m)\u001b[39m\u001b[39m\"\u001b[39m)\n",
      "\u001b[0;31mTypeError\u001b[0m: Length of x (101) must match number of columns in z (102)"
     ]
    },
    {
     "data": {
      "image/png": "[encoded data removed]",
      "text/plain": [
       "<Figure size 432x288 with 1 Axes>"
      ]
     },
     "metadata": {
      "needs_background": "light"
     },
     "output_type": "display_data"
    }
   ],
   "source": [
    "# The lid-driven cavity problem has long been used a test or validation case for new codes or new solution methods.\n",
    "# The standard case is fluid contained in a square domain with Dirichlet boundary conditions on all sides, with three\n",
    "# stationary sides and one moving side (with velocity tangent to the side).\n",
    "\n",
    "import numpy as np\n",
    "from matplotlib import pyplot as plt\n",
    "from tqdm import tqdm\n",
    "# Define parameters\n",
    "x_len = 1.0\n",
    "y_len = 1.0\n",
    "x_points = 101\n",
    "y_points = 101\n",
    "del_x = x_len/float(x_points)\n",
    "del_y = y_len/float(y_points)\n",
    "del_t = 0.001                       # Keep small time steps\n",
    "num_itrs = 1000\n",
    "delta = 4.5\n",
    "Re = 100\n",
    "U_boundary = 1.0\n",
    "\n",
    "u = np.zeros((x_points, y_points+1))\n",
    "v = np.zeros((x_points+1, y_points))\n",
    "p = np.ones((x_points+1, y_points+1))\n",
    "u[:,-1] = U_boundary\n",
    "u[:,-2] = U_boundary\n",
    "\n",
    "u_new = np.zeros((x_points, y_points+1))\n",
    "v_new = np.zeros((x_points+1, y_points))\n",
    "p_new = np.ones((x_points+1, y_points+1))\n",
    "\n",
    "for itr in tqdm(range(num_itrs)):\n",
    "    for i in range(1, x_points-1):  # u momentum equations\n",
    "        for j in range(1, y_points):\n",
    "            u_new[i,j] = u[i,j] - del_t*((u[i+1,j]*u[i+1,j] - u[i-1,j]*u[i-1,j])/float(2.0*del_x)) - del_t*((((u[i,j] + u[i,j+1])*(v[i,j] + v[i+1,j])) - ((u[i,j] + u[i,j-1])*(v[i,j-1] + v[i+1,j-1])))/float(4.0*del_y)) - del_t*(p[i+1,j] - p[i,j])/float(del_x) + del_t*((u[i+1,j] + u[i-1,j] - 2.0*u[i,j])/float(del_x*del_x) + (u[i,j+1] + u[i,j-1] - 2.0*u[i,j])/float(del_y*del_y))/float(Re)\n",
    "\n",
    "    u_new[0,:] = 0                  # boundary condition: u at the left wall = 0\n",
    "    u_new[-1,:] = 0                 # boundary condition: u at the right wall = 0\n",
    "    u_new[:, 0] = -1.0 * u_new[:, 1]    # boundary condition: average u at the bottom surface = 0\n",
    "    u_new[:,-1] = 2*U_boundary - u_new[:,-2]    # boundary condition: average u at the top surface = U_boundary\n",
    "\n",
    "    for i in range(1, x_points):  # v momentum equations\n",
    "        for j in range(1, y_points-1):\n",
    "            v_new[i,j] = v[i,j] - del_t*((v[i,j+1]*v[i,j+1] - v[i,j-1]*v[i,j-1])/float(2.0*del_y)) - del_t*((((u[i,j] + u[i,j+1])*(v[i,j] + v[i+1,j])) - ((u[i-1,j] + u[i-1,j+1])*(v[i,j] + v[i-1,j])))/float(4.0*del_x)) - del_t*(p[i,j+1] - p[i,j])/float(del_y) + del_t*((v[i+1,j] + v[i-1,j] - 2.0*v[i,j])/float(del_x*del_x) + (v[i,j+1] + v[i,j-1] - 2.0*v[i,j])/float(del_y*del_y))/float(Re)\n",
    "\n",
    "    v_new[0,:] = -1.0 * v_new[1,:]      # boundary condition: average v at the left wall = 0\n",
    "    v_new[-1,:] = -1.0 * v_new[-2,:]    # boundary condition: average v at the right wall = 0\n",
    "    v_new[:, 0] = 0                     # boundary condition: v at the bottom surface = 0\n",
    "    v_new[:,-1] = 0                     # boundary condition: v at the top surface = 0\n",
    "\n",
    "    for i in range(1, x_points):  # continuity equations\n",
    "        for j in range(1, y_points):\n",
    "            p_new[i,j] = p[i,j] - delta*del_t*(((u_new[i,j] - u_new[i-1,j])/float(del_x) + (v_new[i,j] - v_new[i,j-1])/float(del_y)))\n",
    "\n",
    "    p_new[0,:] = p_new[1,:]             # boundary condition: average P at the left wall = 0\n",
    "    p_new[-1,:] = p_new[-2,:]           # boundary condition: average P at the right wall = 0\n",
    "    p_new[:,0] = p_new[:,1]             # boundary condition: average P at the bottom surface = 0\n",
    "    p_new[:,-1] = p_new[:,-2]           # boundary condition: average P at the top surface = 0\n",
    "\n",
    "    for i in range(x_points):     # passing current value array to old value array\n",
    "        for j in range(y_points+1):\n",
    "            u[i,j] = u_new[i,j]\n",
    "\n",
    "    for i in range(x_points+1):\n",
    "        for j in range(y_points):\n",
    "            v[i,j] = v_new[i,j]\n",
    "\n",
    "    for i in range(x_points+1):\n",
    "        for j in range(y_points+1):\n",
    "            p[i,j] = p_new[i,j]\n",
    "\n",
    "print(\"\\n U velocity is: \\n\" + str(u_new))\n",
    "print(\"\\n V velocity is: \\n\" + str(v_new))\n",
    "print(\"\\n Pressure distribution is: \\n\" + str(p_new))\n",
    "\n",
    "x_u = np.linspace(0, x_len, x_points+1)\n",
    "y_u = np.linspace(0, y_len, y_points)\n",
    "plt.contourf(y_u, x_u, u_new)\n",
    "plt.colorbar()\n",
    "plt.xlabel(\"x\")\n",
    "plt.ylabel(\"y\")\n",
    "plt.title(\"U velocity contour\")\n",
    "plt.show()\n",
    "\n",
    "x_v = np.linspace(0, x_len, x_points)\n",
    "y_v = np.linspace(0, y_len, y_points+1)\n",
    "plt.contourf(y_v, x_v, v_new)\n",
    "plt.colorbar()\n",
    "plt.xlabel(\"x\")\n",
    "plt.ylabel(\"y\")\n",
    "plt.title(\"V velocity contour\")\n",
    "plt.show()\n",
    "\n",
    "x_p = np.linspace(0, x_len, x_points+1)\n",
    "y_p = np.linspace(0, y_len, y_points+1)\n",
    "plt.contourf(y_p, x_p, p_new)\n",
    "plt.colorbar()\n",
    "plt.xlabel(\"x\")\n",
    "plt.ylabel(\"y\")\n",
    "plt.title(\"Pressure contour\")\n",
    "plt.show()"
   ]
  },
  {
   "cell_type": "code",
   "execution_count": null,
   "metadata": {},
   "outputs": [],
   "source": []
  },
  {
   "cell_type": "code",
   "execution_count": null,
   "metadata": {},
   "outputs": [],
   "source": []
  },
  {
   "cell_type": "code",
   "execution_count": 10,
   "metadata": {},
   "outputs": [
    {
     "data": {
      "image/png": "[encoded data removed]",
      "text/plain": [
       "<Figure size 432x288 with 2 Axes>"
      ]
     },
     "metadata": {
      "needs_background": "light"
     },
     "output_type": "display_data"
    },
    {
     "ename": "TypeError",
     "evalue": "Length of x (102) must match number of columns in z (101)",
     "output_type": "error",
     "traceback": [
      "\u001b[0;31m---------------------------------------------------------------------------\u001b[0m",
      "\u001b[0;31mTypeError\u001b[0m                                 Traceback (most recent call last)",
      "\u001b[1;32m/Users/cong/Desktop/Work zone/Fluids/FDM_FVM_Codes/Online_Program/LatticBoltzmannDemo.ipynb Cell 5\u001b[0m in \u001b[0;36m<cell line: 12>\u001b[0;34m()\u001b[0m\n\u001b[1;32m     <a href='vscode-notebook-cell:/Users/cong/Desktop/Work%20zone/Fluids/FDM_FVM_Codes/Online_Program/LatticBoltzmannDemo.ipynb#W4sZmlsZQ%3D%3D?line=9'>10</a>\u001b[0m x_v \u001b[39m=\u001b[39m np\u001b[39m.\u001b[39mlinspace(\u001b[39m0\u001b[39m, x_len, x_points)\n\u001b[1;32m     <a href='vscode-notebook-cell:/Users/cong/Desktop/Work%20zone/Fluids/FDM_FVM_Codes/Online_Program/LatticBoltzmannDemo.ipynb#W4sZmlsZQ%3D%3D?line=10'>11</a>\u001b[0m y_v \u001b[39m=\u001b[39m np\u001b[39m.\u001b[39mlinspace(\u001b[39m0\u001b[39m, y_len, y_points\u001b[39m+\u001b[39m\u001b[39m1\u001b[39m)\n\u001b[0;32m---> <a href='vscode-notebook-cell:/Users/cong/Desktop/Work%20zone/Fluids/FDM_FVM_Codes/Online_Program/LatticBoltzmannDemo.ipynb#W4sZmlsZQ%3D%3D?line=11'>12</a>\u001b[0m plt\u001b[39m.\u001b[39;49mcontourf(y_v, x_v, v_new)\n\u001b[1;32m     <a href='vscode-notebook-cell:/Users/cong/Desktop/Work%20zone/Fluids/FDM_FVM_Codes/Online_Program/LatticBoltzmannDemo.ipynb#W4sZmlsZQ%3D%3D?line=12'>13</a>\u001b[0m plt\u001b[39m.\u001b[39mcolorbar()\n\u001b[1;32m     <a href='vscode-notebook-cell:/Users/cong/Desktop/Work%20zone/Fluids/FDM_FVM_Codes/Online_Program/LatticBoltzmannDemo.ipynb#W4sZmlsZQ%3D%3D?line=13'>14</a>\u001b[0m plt\u001b[39m.\u001b[39mxlabel(\u001b[39m\"\u001b[39m\u001b[39mx\u001b[39m\u001b[39m\"\u001b[39m)\n",
      "File \u001b[0;32m~/opt/anaconda3/lib/python3.8/site-packages/matplotlib/pyplot.py:2482\u001b[0m, in \u001b[0;36mcontourf\u001b[0;34m(data, *args, **kwargs)\u001b[0m\n\u001b[1;32m   2480\u001b[0m \u001b[39m@_copy_docstring_and_deprecators\u001b[39m(Axes\u001b[39m.\u001b[39mcontourf)\n\u001b[1;32m   2481\u001b[0m \u001b[39mdef\u001b[39;00m \u001b[39mcontourf\u001b[39m(\u001b[39m*\u001b[39margs, data\u001b[39m=\u001b[39m\u001b[39mNone\u001b[39;00m, \u001b[39m*\u001b[39m\u001b[39m*\u001b[39mkwargs):\n\u001b[0;32m-> 2482\u001b[0m     __ret \u001b[39m=\u001b[39m gca()\u001b[39m.\u001b[39;49mcontourf(\n\u001b[1;32m   2483\u001b[0m         \u001b[39m*\u001b[39;49margs, \u001b[39m*\u001b[39;49m\u001b[39m*\u001b[39;49m({\u001b[39m\"\u001b[39;49m\u001b[39mdata\u001b[39;49m\u001b[39m\"\u001b[39;49m: data} \u001b[39mif\u001b[39;49;00m data \u001b[39mis\u001b[39;49;00m \u001b[39mnot\u001b[39;49;00m \u001b[39mNone\u001b[39;49;00m \u001b[39melse\u001b[39;49;00m {}),\n\u001b[1;32m   2484\u001b[0m         \u001b[39m*\u001b[39;49m\u001b[39m*\u001b[39;49mkwargs)\n\u001b[1;32m   2485\u001b[0m     \u001b[39mif\u001b[39;00m __ret\u001b[39m.\u001b[39m_A \u001b[39mis\u001b[39;00m \u001b[39mnot\u001b[39;00m \u001b[39mNone\u001b[39;00m: sci(__ret)  \u001b[39m# noqa\u001b[39;00m\n\u001b[1;32m   2486\u001b[0m     \u001b[39mreturn\u001b[39;00m __ret\n",
      "File \u001b[0;32m~/opt/anaconda3/lib/python3.8/site-packages/matplotlib/__init__.py:1412\u001b[0m, in \u001b[0;36m_preprocess_data.<locals>.inner\u001b[0;34m(ax, data, *args, **kwargs)\u001b[0m\n\u001b[1;32m   1409\u001b[0m \u001b[39m@functools\u001b[39m\u001b[39m.\u001b[39mwraps(func)\n\u001b[1;32m   1410\u001b[0m \u001b[39mdef\u001b[39;00m \u001b[39minner\u001b[39m(ax, \u001b[39m*\u001b[39margs, data\u001b[39m=\u001b[39m\u001b[39mNone\u001b[39;00m, \u001b[39m*\u001b[39m\u001b[39m*\u001b[39mkwargs):\n\u001b[1;32m   1411\u001b[0m     \u001b[39mif\u001b[39;00m data \u001b[39mis\u001b[39;00m \u001b[39mNone\u001b[39;00m:\n\u001b[0;32m-> 1412\u001b[0m         \u001b[39mreturn\u001b[39;00m func(ax, \u001b[39m*\u001b[39;49m\u001b[39mmap\u001b[39;49m(sanitize_sequence, args), \u001b[39m*\u001b[39;49m\u001b[39m*\u001b[39;49mkwargs)\n\u001b[1;32m   1414\u001b[0m     bound \u001b[39m=\u001b[39m new_sig\u001b[39m.\u001b[39mbind(ax, \u001b[39m*\u001b[39margs, \u001b[39m*\u001b[39m\u001b[39m*\u001b[39mkwargs)\n\u001b[1;32m   1415\u001b[0m     auto_label \u001b[39m=\u001b[39m (bound\u001b[39m.\u001b[39marguments\u001b[39m.\u001b[39mget(label_namer)\n\u001b[1;32m   1416\u001b[0m                   \u001b[39mor\u001b[39;00m bound\u001b[39m.\u001b[39mkwargs\u001b[39m.\u001b[39mget(label_namer))\n",
      "File \u001b[0;32m~/opt/anaconda3/lib/python3.8/site-packages/matplotlib/axes/_axes.py:6317\u001b[0m, in \u001b[0;36mAxes.contourf\u001b[0;34m(self, *args, **kwargs)\u001b[0m\n\u001b[1;32m   6308\u001b[0m \u001b[39m\"\"\"\u001b[39;00m\n\u001b[1;32m   6309\u001b[0m \u001b[39mPlot filled contours.\u001b[39;00m\n\u001b[1;32m   6310\u001b[0m \n\u001b[0;32m   (...)\u001b[0m\n\u001b[1;32m   6314\u001b[0m \u001b[39m%(contour_doc)s\u001b[39;00m\n\u001b[1;32m   6315\u001b[0m \u001b[39m\"\"\"\u001b[39;00m\n\u001b[1;32m   6316\u001b[0m kwargs[\u001b[39m'\u001b[39m\u001b[39mfilled\u001b[39m\u001b[39m'\u001b[39m] \u001b[39m=\u001b[39m \u001b[39mTrue\u001b[39;00m\n\u001b[0;32m-> 6317\u001b[0m contours \u001b[39m=\u001b[39m mcontour\u001b[39m.\u001b[39;49mQuadContourSet(\u001b[39mself\u001b[39;49m, \u001b[39m*\u001b[39;49margs, \u001b[39m*\u001b[39;49m\u001b[39m*\u001b[39;49mkwargs)\n\u001b[1;32m   6318\u001b[0m \u001b[39mself\u001b[39m\u001b[39m.\u001b[39m_request_autoscale_view()\n\u001b[1;32m   6319\u001b[0m \u001b[39mreturn\u001b[39;00m contours\n",
      "File \u001b[0;32m~/opt/anaconda3/lib/python3.8/site-packages/matplotlib/contour.py:812\u001b[0m, in \u001b[0;36mContourSet.__init__\u001b[0;34m(self, ax, levels, filled, linewidths, linestyles, hatches, alpha, origin, extent, cmap, colors, norm, vmin, vmax, extend, antialiased, nchunk, locator, transform, *args, **kwargs)\u001b[0m\n\u001b[1;32m    808\u001b[0m     \u001b[39mself\u001b[39m\u001b[39m.\u001b[39morigin \u001b[39m=\u001b[39m mpl\u001b[39m.\u001b[39mrcParams[\u001b[39m'\u001b[39m\u001b[39mimage.origin\u001b[39m\u001b[39m'\u001b[39m]\n\u001b[1;32m    810\u001b[0m \u001b[39mself\u001b[39m\u001b[39m.\u001b[39m_transform \u001b[39m=\u001b[39m transform\n\u001b[0;32m--> 812\u001b[0m kwargs \u001b[39m=\u001b[39m \u001b[39mself\u001b[39;49m\u001b[39m.\u001b[39;49m_process_args(\u001b[39m*\u001b[39;49margs, \u001b[39m*\u001b[39;49m\u001b[39m*\u001b[39;49mkwargs)\n\u001b[1;32m    813\u001b[0m \u001b[39mself\u001b[39m\u001b[39m.\u001b[39m_process_levels()\n\u001b[1;32m    815\u001b[0m \u001b[39mself\u001b[39m\u001b[39m.\u001b[39m_extend_min \u001b[39m=\u001b[39m \u001b[39mself\u001b[39m\u001b[39m.\u001b[39mextend \u001b[39min\u001b[39;00m [\u001b[39m'\u001b[39m\u001b[39mmin\u001b[39m\u001b[39m'\u001b[39m, \u001b[39m'\u001b[39m\u001b[39mboth\u001b[39m\u001b[39m'\u001b[39m]\n",
      "File \u001b[0;32m~/opt/anaconda3/lib/python3.8/site-packages/matplotlib/contour.py:1441\u001b[0m, in \u001b[0;36mQuadContourSet._process_args\u001b[0;34m(self, corner_mask, *args, **kwargs)\u001b[0m\n\u001b[1;32m   1438\u001b[0m     corner_mask \u001b[39m=\u001b[39m mpl\u001b[39m.\u001b[39mrcParams[\u001b[39m'\u001b[39m\u001b[39mcontour.corner_mask\u001b[39m\u001b[39m'\u001b[39m]\n\u001b[1;32m   1439\u001b[0m \u001b[39mself\u001b[39m\u001b[39m.\u001b[39m_corner_mask \u001b[39m=\u001b[39m corner_mask\n\u001b[0;32m-> 1441\u001b[0m x, y, z \u001b[39m=\u001b[39m \u001b[39mself\u001b[39;49m\u001b[39m.\u001b[39;49m_contour_args(args, kwargs)\n\u001b[1;32m   1443\u001b[0m _mask \u001b[39m=\u001b[39m ma\u001b[39m.\u001b[39mgetmask(z)\n\u001b[1;32m   1444\u001b[0m \u001b[39mif\u001b[39;00m _mask \u001b[39mis\u001b[39;00m ma\u001b[39m.\u001b[39mnomask \u001b[39mor\u001b[39;00m \u001b[39mnot\u001b[39;00m _mask\u001b[39m.\u001b[39many():\n",
      "File \u001b[0;32m~/opt/anaconda3/lib/python3.8/site-packages/matplotlib/contour.py:1480\u001b[0m, in \u001b[0;36mQuadContourSet._contour_args\u001b[0;34m(self, args, kwargs)\u001b[0m\n\u001b[1;32m   1478\u001b[0m     args \u001b[39m=\u001b[39m args[\u001b[39m1\u001b[39m:]\n\u001b[1;32m   1479\u001b[0m \u001b[39melif\u001b[39;00m Nargs \u001b[39m<\u001b[39m\u001b[39m=\u001b[39m \u001b[39m4\u001b[39m:\n\u001b[0;32m-> 1480\u001b[0m     x, y, z \u001b[39m=\u001b[39m \u001b[39mself\u001b[39;49m\u001b[39m.\u001b[39;49m_check_xyz(args[:\u001b[39m3\u001b[39;49m], kwargs)\n\u001b[1;32m   1481\u001b[0m     args \u001b[39m=\u001b[39m args[\u001b[39m3\u001b[39m:]\n\u001b[1;32m   1482\u001b[0m \u001b[39melse\u001b[39;00m:\n",
      "File \u001b[0;32m~/opt/anaconda3/lib/python3.8/site-packages/matplotlib/contour.py:1521\u001b[0m, in \u001b[0;36mQuadContourSet._check_xyz\u001b[0;34m(self, args, kwargs)\u001b[0m\n\u001b[1;32m   1519\u001b[0m ny, \u001b[39m=\u001b[39m y\u001b[39m.\u001b[39mshape\n\u001b[1;32m   1520\u001b[0m \u001b[39mif\u001b[39;00m nx \u001b[39m!=\u001b[39m Nx:\n\u001b[0;32m-> 1521\u001b[0m     \u001b[39mraise\u001b[39;00m \u001b[39mTypeError\u001b[39;00m(\u001b[39mf\u001b[39m\u001b[39m\"\u001b[39m\u001b[39mLength of x (\u001b[39m\u001b[39m{\u001b[39;00mnx\u001b[39m}\u001b[39;00m\u001b[39m) must match number of \u001b[39m\u001b[39m\"\u001b[39m\n\u001b[1;32m   1522\u001b[0m                     \u001b[39mf\u001b[39m\u001b[39m\"\u001b[39m\u001b[39mcolumns in z (\u001b[39m\u001b[39m{\u001b[39;00mNx\u001b[39m}\u001b[39;00m\u001b[39m)\u001b[39m\u001b[39m\"\u001b[39m)\n\u001b[1;32m   1523\u001b[0m \u001b[39mif\u001b[39;00m ny \u001b[39m!=\u001b[39m Ny:\n\u001b[1;32m   1524\u001b[0m     \u001b[39mraise\u001b[39;00m \u001b[39mTypeError\u001b[39;00m(\u001b[39mf\u001b[39m\u001b[39m\"\u001b[39m\u001b[39mLength of y (\u001b[39m\u001b[39m{\u001b[39;00mny\u001b[39m}\u001b[39;00m\u001b[39m) must match number of \u001b[39m\u001b[39m\"\u001b[39m\n\u001b[1;32m   1525\u001b[0m                     \u001b[39mf\u001b[39m\u001b[39m\"\u001b[39m\u001b[39mrows in z (\u001b[39m\u001b[39m{\u001b[39;00mNy\u001b[39m}\u001b[39;00m\u001b[39m)\u001b[39m\u001b[39m\"\u001b[39m)\n",
      "\u001b[0;31mTypeError\u001b[0m: Length of x (102) must match number of columns in z (101)"
     ]
    },
    {
     "data": {
      "image/png": "[encoded data removed]",
      "text/plain": [
       "<Figure size 432x288 with 1 Axes>"
      ]
     },
     "metadata": {
      "needs_background": "light"
     },
     "output_type": "display_data"
    }
   ],
   "source": [
    "x_u = np.linspace(0, x_len, x_points)\n",
    "y_u = np.linspace(0, y_len, y_points)\n",
    "plt.contourf(u_new)\n",
    "plt.colorbar()\n",
    "plt.xlabel(\"x\")\n",
    "plt.ylabel(\"y\")\n",
    "plt.title(\"U velocity contour\")\n",
    "plt.show()\n",
    "\n",
    "x_v = np.linspace(0, x_len, x_points)\n",
    "y_v = np.linspace(0, y_len, y_points+1)\n",
    "plt.contourf(y_v, x_v, v_new)\n",
    "plt.colorbar()\n",
    "plt.xlabel(\"x\")\n",
    "plt.ylabel(\"y\")\n",
    "plt.title(\"V velocity contour\")\n",
    "plt.show()\n",
    "\n",
    "x_p = np.linspace(0, x_len, x_points+1)\n",
    "y_p = np.linspace(0, y_len, y_points+1)\n",
    "plt.contourf(y_p, x_p, p_new)\n",
    "plt.colorbar()\n",
    "plt.xlabel(\"x\")\n",
    "plt.ylabel(\"y\")\n",
    "plt.title(\"Pressure contour\")\n",
    "plt.show()"
   ]
  },
  {
   "cell_type": "code",
   "execution_count": 3,
   "metadata": {},
   "outputs": [
    {
     "data": {
      "text/plain": [
       "(101, 102)"
      ]
     },
     "execution_count": 3,
     "metadata": {},
     "output_type": "execute_result"
    }
   ],
   "source": [
    "u_new.shape"
   ]
  },
  {
   "cell_type": "code",
   "execution_count": 4,
   "metadata": {},
   "outputs": [
    {
     "ename": "ValueError",
     "evalue": "Argument U has a size 102 which does not match 101, the number of arrow positions",
     "output_type": "error",
     "traceback": [
      "\u001b[0;31m---------------------------------------------------------------------------\u001b[0m",
      "\u001b[0;31mValueError\u001b[0m                                Traceback (most recent call last)",
      "\u001b[1;32m/Users/cong/Desktop/Work zone/Fluids/FDM_FVM_Codes/Online_Program/LatticBoltzmannDemo.ipynb Cell 9\u001b[0m in \u001b[0;36m<cell line: 3>\u001b[0;34m()\u001b[0m\n\u001b[1;32m      <a href='vscode-notebook-cell:/Users/cong/Desktop/Work%20zone/Fluids/FDM_FVM_Codes/Online_Program/LatticBoltzmannDemo.ipynb#W5sZmlsZQ%3D%3D?line=0'>1</a>\u001b[0m x_u \u001b[39m=\u001b[39m np\u001b[39m.\u001b[39mlinspace(\u001b[39m0\u001b[39m, x_len, x_points)\n\u001b[1;32m      <a href='vscode-notebook-cell:/Users/cong/Desktop/Work%20zone/Fluids/FDM_FVM_Codes/Online_Program/LatticBoltzmannDemo.ipynb#W5sZmlsZQ%3D%3D?line=1'>2</a>\u001b[0m y_u \u001b[39m=\u001b[39m np\u001b[39m.\u001b[39mlinspace(\u001b[39m0\u001b[39m, y_len, y_points)\n\u001b[0;32m----> <a href='vscode-notebook-cell:/Users/cong/Desktop/Work%20zone/Fluids/FDM_FVM_Codes/Online_Program/LatticBoltzmannDemo.ipynb#W5sZmlsZQ%3D%3D?line=2'>3</a>\u001b[0m plt\u001b[39m.\u001b[39;49mquiver(x_u,y_u,u_new[\u001b[39m0\u001b[39;49m],u_new[\u001b[39m1\u001b[39;49m])\n",
      "File \u001b[0;32m~/opt/anaconda3/lib/python3.8/site-packages/matplotlib/pyplot.py:2788\u001b[0m, in \u001b[0;36mquiver\u001b[0;34m(data, *args, **kwargs)\u001b[0m\n\u001b[1;32m   2786\u001b[0m \u001b[39m@_copy_docstring_and_deprecators\u001b[39m(Axes\u001b[39m.\u001b[39mquiver)\n\u001b[1;32m   2787\u001b[0m \u001b[39mdef\u001b[39;00m \u001b[39mquiver\u001b[39m(\u001b[39m*\u001b[39margs, data\u001b[39m=\u001b[39m\u001b[39mNone\u001b[39;00m, \u001b[39m*\u001b[39m\u001b[39m*\u001b[39mkwargs):\n\u001b[0;32m-> 2788\u001b[0m     __ret \u001b[39m=\u001b[39m gca()\u001b[39m.\u001b[39;49mquiver(\n\u001b[1;32m   2789\u001b[0m         \u001b[39m*\u001b[39;49margs, \u001b[39m*\u001b[39;49m\u001b[39m*\u001b[39;49m({\u001b[39m\"\u001b[39;49m\u001b[39mdata\u001b[39;49m\u001b[39m\"\u001b[39;49m: data} \u001b[39mif\u001b[39;49;00m data \u001b[39mis\u001b[39;49;00m \u001b[39mnot\u001b[39;49;00m \u001b[39mNone\u001b[39;49;00m \u001b[39melse\u001b[39;49;00m {}),\n\u001b[1;32m   2790\u001b[0m         \u001b[39m*\u001b[39;49m\u001b[39m*\u001b[39;49mkwargs)\n\u001b[1;32m   2791\u001b[0m     sci(__ret)\n\u001b[1;32m   2792\u001b[0m     \u001b[39mreturn\u001b[39;00m __ret\n",
      "File \u001b[0;32m~/opt/anaconda3/lib/python3.8/site-packages/matplotlib/__init__.py:1412\u001b[0m, in \u001b[0;36m_preprocess_data.<locals>.inner\u001b[0;34m(ax, data, *args, **kwargs)\u001b[0m\n\u001b[1;32m   1409\u001b[0m \u001b[39m@functools\u001b[39m\u001b[39m.\u001b[39mwraps(func)\n\u001b[1;32m   1410\u001b[0m \u001b[39mdef\u001b[39;00m \u001b[39minner\u001b[39m(ax, \u001b[39m*\u001b[39margs, data\u001b[39m=\u001b[39m\u001b[39mNone\u001b[39;00m, \u001b[39m*\u001b[39m\u001b[39m*\u001b[39mkwargs):\n\u001b[1;32m   1411\u001b[0m     \u001b[39mif\u001b[39;00m data \u001b[39mis\u001b[39;00m \u001b[39mNone\u001b[39;00m:\n\u001b[0;32m-> 1412\u001b[0m         \u001b[39mreturn\u001b[39;00m func(ax, \u001b[39m*\u001b[39;49m\u001b[39mmap\u001b[39;49m(sanitize_sequence, args), \u001b[39m*\u001b[39;49m\u001b[39m*\u001b[39;49mkwargs)\n\u001b[1;32m   1414\u001b[0m     bound \u001b[39m=\u001b[39m new_sig\u001b[39m.\u001b[39mbind(ax, \u001b[39m*\u001b[39margs, \u001b[39m*\u001b[39m\u001b[39m*\u001b[39mkwargs)\n\u001b[1;32m   1415\u001b[0m     auto_label \u001b[39m=\u001b[39m (bound\u001b[39m.\u001b[39marguments\u001b[39m.\u001b[39mget(label_namer)\n\u001b[1;32m   1416\u001b[0m                   \u001b[39mor\u001b[39;00m bound\u001b[39m.\u001b[39mkwargs\u001b[39m.\u001b[39mget(label_namer))\n",
      "File \u001b[0;32m~/opt/anaconda3/lib/python3.8/site-packages/matplotlib/axes/_axes.py:4988\u001b[0m, in \u001b[0;36mAxes.quiver\u001b[0;34m(self, *args, **kwargs)\u001b[0m\n\u001b[1;32m   4986\u001b[0m \u001b[39m# Make sure units are handled for x and y values\u001b[39;00m\n\u001b[1;32m   4987\u001b[0m args \u001b[39m=\u001b[39m \u001b[39mself\u001b[39m\u001b[39m.\u001b[39m_quiver_units(args, kwargs)\n\u001b[0;32m-> 4988\u001b[0m q \u001b[39m=\u001b[39m mquiver\u001b[39m.\u001b[39;49mQuiver(\u001b[39mself\u001b[39;49m, \u001b[39m*\u001b[39;49margs, \u001b[39m*\u001b[39;49m\u001b[39m*\u001b[39;49mkwargs)\n\u001b[1;32m   4989\u001b[0m \u001b[39mself\u001b[39m\u001b[39m.\u001b[39madd_collection(q, autolim\u001b[39m=\u001b[39m\u001b[39mTrue\u001b[39;00m)\n\u001b[1;32m   4990\u001b[0m \u001b[39mself\u001b[39m\u001b[39m.\u001b[39m_request_autoscale_view()\n",
      "File \u001b[0;32m~/opt/anaconda3/lib/python3.8/site-packages/matplotlib/quiver.py:510\u001b[0m, in \u001b[0;36mQuiver.__init__\u001b[0;34m(self, ax, scale, headwidth, headlength, headaxislength, minshaft, minlength, units, scale_units, angles, width, color, pivot, *args, **kw)\u001b[0m\n\u001b[1;32m    507\u001b[0m \u001b[39msuper\u001b[39m()\u001b[39m.\u001b[39m\u001b[39m__init__\u001b[39m([], offsets\u001b[39m=\u001b[39m\u001b[39mself\u001b[39m\u001b[39m.\u001b[39mXY, transOffset\u001b[39m=\u001b[39m\u001b[39mself\u001b[39m\u001b[39m.\u001b[39mtransform,\n\u001b[1;32m    508\u001b[0m                  closed\u001b[39m=\u001b[39m\u001b[39mFalse\u001b[39;00m, \u001b[39m*\u001b[39m\u001b[39m*\u001b[39mkw)\n\u001b[1;32m    509\u001b[0m \u001b[39mself\u001b[39m\u001b[39m.\u001b[39mpolykw \u001b[39m=\u001b[39m kw\n\u001b[0;32m--> 510\u001b[0m \u001b[39mself\u001b[39;49m\u001b[39m.\u001b[39;49mset_UVC(U, V, C)\n\u001b[1;32m    511\u001b[0m \u001b[39mself\u001b[39m\u001b[39m.\u001b[39m_initialized \u001b[39m=\u001b[39m \u001b[39mFalse\u001b[39;00m\n\u001b[1;32m    513\u001b[0m weak_self \u001b[39m=\u001b[39m weakref\u001b[39m.\u001b[39mref(\u001b[39mself\u001b[39m)  \u001b[39m# Prevent closure over the real self.\u001b[39;00m\n",
      "File \u001b[0;32m~/opt/anaconda3/lib/python3.8/site-packages/matplotlib/quiver.py:579\u001b[0m, in \u001b[0;36mQuiver.set_UVC\u001b[0;34m(self, U, V, C)\u001b[0m\n\u001b[1;32m    577\u001b[0m \u001b[39mfor\u001b[39;00m name, var \u001b[39min\u001b[39;00m \u001b[39mzip\u001b[39m((\u001b[39m'\u001b[39m\u001b[39mU\u001b[39m\u001b[39m'\u001b[39m, \u001b[39m'\u001b[39m\u001b[39mV\u001b[39m\u001b[39m'\u001b[39m, \u001b[39m'\u001b[39m\u001b[39mC\u001b[39m\u001b[39m'\u001b[39m), (U, V, C)):\n\u001b[1;32m    578\u001b[0m     \u001b[39mif\u001b[39;00m \u001b[39mnot\u001b[39;00m (var \u001b[39mis\u001b[39;00m \u001b[39mNone\u001b[39;00m \u001b[39mor\u001b[39;00m var\u001b[39m.\u001b[39msize \u001b[39m==\u001b[39m \u001b[39mself\u001b[39m\u001b[39m.\u001b[39mN \u001b[39mor\u001b[39;00m var\u001b[39m.\u001b[39msize \u001b[39m==\u001b[39m \u001b[39m1\u001b[39m):\n\u001b[0;32m--> 579\u001b[0m         \u001b[39mraise\u001b[39;00m \u001b[39mValueError\u001b[39;00m(\u001b[39mf\u001b[39m\u001b[39m'\u001b[39m\u001b[39mArgument \u001b[39m\u001b[39m{\u001b[39;00mname\u001b[39m}\u001b[39;00m\u001b[39m has a size \u001b[39m\u001b[39m{\u001b[39;00mvar\u001b[39m.\u001b[39msize\u001b[39m}\u001b[39;00m\u001b[39m'\u001b[39m\n\u001b[1;32m    580\u001b[0m                          \u001b[39mf\u001b[39m\u001b[39m'\u001b[39m\u001b[39m which does not match \u001b[39m\u001b[39m{\u001b[39;00m\u001b[39mself\u001b[39m\u001b[39m.\u001b[39mN\u001b[39m}\u001b[39;00m\u001b[39m,\u001b[39m\u001b[39m'\u001b[39m\n\u001b[1;32m    581\u001b[0m                          \u001b[39m'\u001b[39m\u001b[39m the number of arrow positions\u001b[39m\u001b[39m'\u001b[39m)\n\u001b[1;32m    583\u001b[0m mask \u001b[39m=\u001b[39m ma\u001b[39m.\u001b[39mmask_or(U\u001b[39m.\u001b[39mmask, V\u001b[39m.\u001b[39mmask, copy\u001b[39m=\u001b[39m\u001b[39mFalse\u001b[39;00m, shrink\u001b[39m=\u001b[39m\u001b[39mTrue\u001b[39;00m)\n\u001b[1;32m    584\u001b[0m \u001b[39mif\u001b[39;00m C \u001b[39mis\u001b[39;00m \u001b[39mnot\u001b[39;00m \u001b[39mNone\u001b[39;00m:\n",
      "\u001b[0;31mValueError\u001b[0m: Argument U has a size 102 which does not match 101, the number of arrow positions"
     ]
    },
    {
     "data": {
      "image/png": "[encoded data removed]",
      "text/plain": [
       "<Figure size 432x288 with 1 Axes>"
      ]
     },
     "metadata": {
      "needs_background": "light"
     },
     "output_type": "display_data"
    }
   ],
   "source": [
    "x_u = np.linspace(0, x_len, x_points)\n",
    "y_u = np.linspace(0, y_len, y_points)\n",
    "plt.quiver(x_u,y_u,u_new[0],u_new[1])"
   ]
  }
 ],
 "metadata": {
  "kernelspec": {
   "display_name": "base",
   "language": "python",
   "name": "python3"
  },
  "language_info": {
   "codemirror_mode": {
    "name": "ipython",
    "version": 3
   },
   "file_extension": ".py",
   "mimetype": "text/x-python",
   "name": "python",
   "nbconvert_exporter": "python",
   "pygments_lexer": "ipython3",
   "version": "3.8.8"
  },
  "orig_nbformat": 4,
  "vscode": {
   "interpreter": {
    "hash": "2460100f35260ee208a5b94ebee5fc1cad5cb9ab1fd7acad2861fa8fa1dd8046"
   }
  }
 },
 "nbformat": 4,
 "nbformat_minor": 2
}
