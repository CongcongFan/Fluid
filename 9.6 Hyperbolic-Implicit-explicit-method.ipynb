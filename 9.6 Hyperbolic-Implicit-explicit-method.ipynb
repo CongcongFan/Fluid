{
 "cells": [
  {
   "cell_type": "code",
   "execution_count": 316,
   "metadata": {},
   "outputs": [],
   "source": [
    "import numpy as np\n",
    "import matplotlib.pyplot as plt\n",
    "from tqdm import tqdm\n",
    "from IPython.display import clear_output\n",
    "import time\n",
    "\n",
    "plt.rcParams.update({'font.size': 16})\n",
    "from utilities import error, prepare_phi_and_S, convert1D_to_2D, plot_phi\n",
    "\n",
    "from utilities import GS,smoothing, restriction, residual,prolongation\n",
    "\n",
    "\n",
    "import matplotlib.animation as animation\n",
    "\n",
    "from IPython import display\n",
    "from matplotlib.animation import PillowWriter\n",
    "metadata = dict(title='Movie', artist='cong')\n",
    "# writer = PillowWriter(fps=15, metadata=metadata)\n",
    "writer = PillowWriter(fps=15, metadata=metadata)"
   ]
  },
  {
   "cell_type": "code",
   "execution_count": 317,
   "metadata": {},
   "outputs": [],
   "source": [
    "def CFL(ux,dx,uy=None,dy=None):\n",
    "    # A function defines Courant, Friedrichs, and Lewy or Courant number or the CFL number\n",
    "    \n",
    "    # if dy is not provided, means the problem is 1D\n",
    "    if dy == None:\n",
    "        CFL = dx/ux\n",
    "    else:\n",
    "        CFL = 1/ (ux/dx + uy/dy)\n",
    "    return CFL"
   ]
  },
  {
   "cell_type": "code",
   "execution_count": 318,
   "metadata": {},
   "outputs": [],
   "source": [
    "def applyIC(phi, Nx, dx):\n",
    "    # A function to apply specified initial conditions at t=0.\n",
    "    \"\"\"\n",
    "    phi: the dependent variables\n",
    "    Nx: number of grids\n",
    "    dx: Grid size\n",
    "    \"\"\"\n",
    "    \n",
    "    x = np.arange(0,1+dx,dx)\n",
    "    \n",
    "    for i in range(x.shape[0]):\n",
    "        if 0<=x[i]<=0.5:\n",
    "            phi[i] = 2*x[i]\n",
    "        elif 0.5<=x[i]<=1:\n",
    "            phi[i] = 2-2*x[i]\n",
    "    \n",
    "    phi[0],phi[-1] = 0,0\n",
    "    return phi\n",
    "\n",
    "\n",
    "def prepare_phi(Nx, dx):\n",
    "    # A function to generate variable 'phi' with ICs\n",
    "    \"\"\"\n",
    "    Nx: number of grids\n",
    "    dx: Grid size\n",
    "    \"\"\"\n",
    "    phi = np.zeros((Nx))\n",
    "    \n",
    "    phi = applyIC(phi, Nx, dx)\n",
    "\n",
    "    return phi"
   ]
  },
  {
   "cell_type": "code",
   "execution_count": 319,
   "metadata": {},
   "outputs": [],
   "source": [
    "def alpha1(x):\n",
    "    # A function for calculate alpha for very first time step based on the ICs\n",
    "    if 0<=x<=0.5:\n",
    "        a = 2*x\n",
    "    elif 0.5<=x<=1:\n",
    "        a = 2-2*x\n",
    "    return a"
   ]
  },
  {
   "cell_type": "code",
   "execution_count": 320,
   "metadata": {},
   "outputs": [],
   "source": [
    "def GS(phi, RHS,aE,aW,a00,Nx,tol):\n",
    "    # A function to perform 1D Gauss-Siedel algorithm\n",
    "\n",
    "    for _ in tqdm(range(100000)):\n",
    "        for i in range(1,Nx-1):\n",
    "            # Gauss-Siedel Update\n",
    "            phi[i] = (RHS[i] - aE*phi[i+1] - aW*phi[i-1]) / a00\n",
    "            \n",
    "        # Calculate residual\n",
    "        R2 = 0\n",
    "        R = np.zeros(Nx)\n",
    "\n",
    "        for i in range(1,Nx-1):    \n",
    "            R[i] = RHS[i] - aE*phi[i+1] - aW*phi[i-1]  - a00*phi[i]\n",
    "            R2 = R2+R[i]**2\n",
    "\n",
    "        R2 = np.sqrt(R2)\n",
    "        if _ %5000==0:\n",
    "            clear_output(True)\n",
    "            print('Residual:', R2)\n",
    "            \n",
    "        if R2<tol:\n",
    "            print('Converged! Residual: ',R2)\n",
    "\n",
    "            break\n",
    "    return phi\n"
   ]
  },
  {
   "cell_type": "code",
   "execution_count": 321,
   "metadata": {},
   "outputs": [],
   "source": [
    "Nx = 41\n",
    "L = 1  # length\n",
    "\n",
    "dx = L / (Nx - 1)  # Grid size\n",
    "\n",
    "# Wave speed in x-direction\n",
    "ux = 1\n",
    "\n",
    "# tolerance for convergence\n",
    "tol = 1e-6\n",
    "\n",
    "# cfl number\n",
    "cfl = CFL(ux,dx)\n",
    "\n",
    "\n",
    "dt = 0.4 * cfl\n",
    "\n",
    "phi = prepare_phi(Nx, dx)\n"
   ]
  },
  {
   "cell_type": "code",
   "execution_count": 322,
   "metadata": {},
   "outputs": [
    {
     "name": "stderr",
     "output_type": "stream",
     "text": [
      "\r  0%|          | 8/100000 [00:00<00:13, 7627.74it/s]"
     ]
    },
    {
     "name": "stdout",
     "output_type": "stream",
     "text": [
      "Residual: 7.5444644863149986\n",
      "Converged! Residual:  9.41264359674563e-07\n",
      "Finished at time:  0.19000000000000003\n"
     ]
    },
    {
     "name": "stderr",
     "output_type": "stream",
     "text": [
      "\n"
     ]
    }
   ],
   "source": [
    "# nodal equations\n",
    "aE = -ux**2/dx**2\n",
    "aW = -ux**2/dx**2\n",
    "\n",
    "# a00 for first time step\n",
    "a00 = 2/dt**2 + 2*ux**2/dx**2\n",
    "\n",
    "# a0 for the rest of time steps\n",
    "a0 = 1/dt**2 + 2*ux**2/dx**2\n",
    "\n",
    "# beta is the ICs for d𝜙/dt @ t=0. In this problem, beta is 0\n",
    "beta = 0\n",
    "\n",
    "# number of time steps\n",
    "num_n =20\n",
    "\n",
    "# For every time step, re-calculate the RHS terms at all nodes based on equation provided in text book\n",
    "# 𝜙 = 𝜙 @ |n time steps|\n",
    "# 𝜙_old = 𝜙 @ |n-1|, used for n>0\n",
    "for n in range(num_n):\n",
    "\n",
    "    if n ==0: \n",
    "        phi_old = phi\n",
    "\n",
    "        # Calculate RHS\n",
    "        RHS = np.zeros(phi.shape)\n",
    "        for i in range(Nx):\n",
    "            x = dx*i\n",
    "            alpha = alpha1(x)\n",
    "            RHS[i] = 2/dt**2 * (alpha + dt * beta)\n",
    "\n",
    "        # GS update\n",
    "        phi = GS(phi, RHS,aE,aW,a00,Nx,tol)\n",
    "        \n",
    "            \n",
    "    else:\n",
    "\n",
    "        # Calculate RHS\n",
    "        RHS = np.zeros(phi.shape)\n",
    "        for i in range(Nx):\n",
    "            x = dx*i\n",
    "            RHS[i] = 1/dt**2 * (2*phi[i] - phi_old[i])\n",
    "\n",
    "        # GS update\n",
    "        phi = GS(phi, RHS,aE,aW,a0,Nx,tol)\n",
    "\n",
    "        # Update 𝜙_old = 𝜙 @ |n-1| for next time step\n",
    "        phi_old = phi\n",
    "print('Finished at time: ',n*dt)   "
   ]
  },
  {
   "cell_type": "code",
   "execution_count": 323,
   "metadata": {},
   "outputs": [],
   "source": [
    "# Analytical solution\n",
    "x = np.linspace(0, 1, Nx)\n",
    "phi_A = np.zeros((Nx))\n",
    "tmp = np.zeros(Nx)\n",
    "for n in range(num_n):\n",
    "    t = n * dt\n",
    "    if n>0:\n",
    "        for i in range(Nx):\n",
    "            tmp[i] += np.sin(n * np.pi / 2) / n ** 2 * np.cos(n * np.pi * t) * np.sin(n * np.pi * x[i])\n",
    "\n",
    "for i in range(Nx):\n",
    "    phi_A[i] = 8 / np.pi ** 2 * tmp[i]"
   ]
  },
  {
   "cell_type": "code",
   "execution_count": 324,
   "metadata": {},
   "outputs": [
    {
     "data": {
      "text/plain": [
       "<matplotlib.legend.Legend at 0x7fb8ef8765e0>"
      ]
     },
     "execution_count": 324,
     "metadata": {},
     "output_type": "execute_result"
    },
    {
     "data": {
      "image/png": "[encoded data removed]",
      "text/plain": [
       "<Figure size 720x432 with 1 Axes>"
      ]
     },
     "metadata": {
      "needs_background": "light"
     },
     "output_type": "display_data"
    }
   ],
   "source": [
    "title = 'Nx = '+str(Nx) + '. Time: '+str(n * dt)[:6]+'s'\n",
    "xx = np.linspace(0,L,phi.shape[0])\n",
    "plt.figure(figsize=(10,6))\n",
    "plt.plot(xx,phi,label='numerical')\n",
    "plt.plot(xx,phi_A,label='Analytical')\n",
    "plt.plot(xx,phi_A-phi,label='Error')\n",
    "\n",
    "plt.title(title)\n",
    "plt.legend()"
   ]
  }
 ],
 "metadata": {
  "kernelspec": {
   "display_name": "base",
   "language": "python",
   "name": "python3"
  },
  "language_info": {
   "codemirror_mode": {
    "name": "ipython",
    "version": 3
   },
   "file_extension": ".py",
   "mimetype": "text/x-python",
   "name": "python",
   "nbconvert_exporter": "python",
   "pygments_lexer": "ipython3",
   "version": "3.8.8 (default, Apr 13 2021, 12:59:45) \n[Clang 10.0.0 ]"
  },
  "orig_nbformat": 4,
  "vscode": {
   "interpreter": {
    "hash": "2460100f35260ee208a5b94ebee5fc1cad5cb9ab1fd7acad2861fa8fa1dd8046"
   }
  }
 },
 "nbformat": 4,
 "nbformat_minor": 2
}
