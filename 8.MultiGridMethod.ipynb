{
 "cells": [
  {
   "cell_type": "code",
   "execution_count": 1,
   "metadata": {},
   "outputs": [],
   "source": [
    "import numpy as np\n",
    "import matplotlib.pyplot as plt\n",
    "from tqdm import tqdm\n",
    "from IPython.display import clear_output\n",
    "import time\n",
    "plt.rcParams.update({'font.size': 14})\n",
    "\n",
    "from utilities import error, prepare_phi_and_S, convert1D_to_2D, plot_phi,residual"
   ]
  },
  {
   "cell_type": "code",
   "execution_count": null,
   "metadata": {
    "tags": []
   },
   "outputs": [],
   "source": [
    "def GS(Nx,Ny,phi,S,aE,aW,aN,aS,a0):\n",
    "    for i in range(1,Nx-1):\n",
    "            for j in range(1,Ny-1):\n",
    "\n",
    "                # Gauss-Siedel Update\n",
    "                phi[i,j] = (S[i,j] - aE*phi[i+1,j] - aW*phi[i-1,j] - aN*phi[i,j+1] - aS*phi[i,j-1]) / a0\n",
    "    return phi"
   ]
  },
  {
   "cell_type": "code",
   "execution_count": null,
   "metadata": {},
   "outputs": [],
   "source": [
    "# numbering scheme used is k = (j-1)*N + i\n",
    "# The name of variable ends with c and f are corse and fine mesh\n",
    "start = time.time()\n",
    "Nxf = 41\n",
    "Nyf = 41\n",
    "Nxc = 21\n",
    "Nyc = 21\n",
    "L = 1   # length\n",
    "H = 1   # length\n",
    "\n",
    "Sf = np.zeros((Nxf,Nyf))\n",
    "phif = np.zeros((Nxf,Nyf))\n",
    "\n",
    "Sc = np.zeros((Nxc,Nyc))\n",
    "phic = np.zeros((Nxc,Nyc))\n",
    "\n",
    "dxf = L/(Nxf-1)    # Grid size\n",
    "dyf = L/(Nyf-1)    # Grid size\n",
    "\n",
    "dxc = L/(Nxf-1)    # Grid size\n",
    "dyc = L/(Nyf-1)    # Grid size\n",
    "\n",
    "tolc = 1e-6\n",
    "\n",
    "aEf = 1/dxf**2\n",
    "aWf = 1/dxf**2\n",
    "aNf = 1/dyf**2\n",
    "aSf = 1/dyf**2\n",
    "a0f = -(2/dxf**2 + 2/dyf**2)\n",
    "\n",
    "phif, Sf = prepare_phi_and_S(Nxf, Nyf, phif, L,H)\n",
    "\n",
    "for _ in tqdm(range(10000)):\n",
    "    R2f_old,_,_ = residual(Nxf,Nyf,phif,Sf,aEf,aWf,aNf,aSf,a0f, convert=False)\n",
    "    R2f = 1e10\n",
    "    while R2f/R2f_old > 0.5:\n",
    "        # One GS sweep on fine mesh\n",
    "        phif = GS(Nxf,Nyf,phif,Sf,aEf,aWf,aNf,aSf,a0f)\n",
    "        \n",
    "        R2f,Rsumf,Rf_new = residual(Nxf,Nyf,phif,Sf,aEf,aWf,aNf,aSf,a0f, convert=False)\n",
    "\n",
    "    # Transfer Residual to corse mesh\n",
    "\n",
    "\n",
    "    \n",
    "    if _ %500==0:\n",
    "        clear_output(True)\n",
    "        print('Residual:', R2)\n",
    "        \n",
    "    if R2<tol:\n",
    "        print('Converged! Residual: ',R2, 'Time elapsed: ', time.time()-start)\n",
    "        break\n"
   ]
  }
 ],
 "metadata": {
  "kernelspec": {
   "display_name": "base",
   "language": "python",
   "name": "python3"
  },
  "language_info": {
   "codemirror_mode": {
    "name": "ipython",
    "version": 3
   },
   "file_extension": ".py",
   "mimetype": "text/x-python",
   "name": "python",
   "nbconvert_exporter": "python",
   "pygments_lexer": "ipython3",
   "version": "3.8.8"
  },
  "orig_nbformat": 4,
  "vscode": {
   "interpreter": {
    "hash": "2460100f35260ee208a5b94ebee5fc1cad5cb9ab1fd7acad2861fa8fa1dd8046"
   }
  }
 },
 "nbformat": 4,
 "nbformat_minor": 2
}
