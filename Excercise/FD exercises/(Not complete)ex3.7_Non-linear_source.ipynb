{
 "cells": [
  {
   "cell_type": "code",
   "execution_count": 38,
   "metadata": {},
   "outputs": [],
   "source": [
    "import numpy as np\n",
    "import matplotlib.pyplot as plt\n",
    "from tqdm import tqdm\n",
    "from IPython.display import clear_output\n",
    "import time\n",
    "plt.rcParams.update({'font.size': 14})\n",
    "\n",
    "from utilities import error, prepare_phi_and_S, convert1D_to_2D, plot_phi,residual"
   ]
  },
  {
   "cell_type": "code",
   "execution_count": 39,
   "metadata": {},
   "outputs": [],
   "source": [
    "def prepare_phi_and_S(Nx,phi,C):\n",
    "\n",
    "    # Generate RHS source terms matrix and unknowns 'phi' with Dirichlet BCs\n",
    "    S = np.zeros((Nx))\n",
    "\n",
    "    # RHS source terms\n",
    "    for i in range(Nx):\n",
    "        source = np.exp(C*phi[i])\n",
    "        S[i] = source\n",
    "\n",
    "\n",
    "    ## Right BC\n",
    "    i = Nx-1 \n",
    "    phiR = 1\n",
    "    phi[i] = phiR\n",
    "    S[i] = phiR\n",
    "        \n",
    "    ## left BC\n",
    "    i = 0   \n",
    "    phiL = 0\n",
    "    phi[i] = phiL\n",
    "    S[i] = phiL \n",
    "\n",
    "    return phi, S"
   ]
  },
  {
   "cell_type": "code",
   "execution_count": 40,
   "metadata": {},
   "outputs": [],
   "source": [
    "def TRI(N,a,d,c,Q):\n",
    "    '''\n",
    "    ┌                                        ┐\n",
    "    │  d1  c1  0 ...                        0│\n",
    "    │  a1  d2  c2  0 ...                    0│\n",
    "    │        .                               │\n",
    "    │          .                             │\n",
    "    │            .                           │┌     ┐  ┌     ┐\n",
    "    │... 0   ai-2  di-1  ci-1 0  ...         ││Phi_x│= | Q_x |\n",
    "    │                  .                     │└     ┘  └     ┘\n",
    "    │                   .                    │\n",
    "    │                    .                   │\n",
    "    │0     ... 0   aN-2  dN-1  cN-1  0  ...  │\n",
    "    │0         ... 0   aN-1  dN    0  ...    │ \n",
    "    └                                        ┘\n",
    "    '''\n",
    "    # Tridiagonal matrix solver\n",
    "    phi = np.zeros(N)\n",
    "\n",
    "    # Forward Elemination\n",
    "    for i in range (1,N):\n",
    "        const = a[i-1] / d[i-1]\n",
    "        d[i] = d[i] - const*c[i-1] # Diagonal\n",
    "        Q[i] = Q[i] - const*Q[i-1]  # RHS\n",
    "    \n",
    "    # Solve last equation \n",
    "    phi[-1] = Q[-1]/d[-1]\n",
    "\n",
    "    # Qackward Elemination\n",
    "    for i in range(N-2,-1,-1):\n",
    "        \n",
    "        phi[i] = (Q[i] - c[i]*phi[i+1]) / d[i]\n",
    "\n",
    "    return phi"
   ]
  },
  {
   "cell_type": "code",
   "execution_count": 57,
   "metadata": {},
   "outputs": [
    {
     "name": "stderr",
     "output_type": "stream",
     "text": [
      "\r  0%|          | 0/100000 [00:00<?, ?it/s]"
     ]
    },
    {
     "name": "stdout",
     "output_type": "stream",
     "text": [
      "Residual:  1.0361262714899445e-12\n",
      "At : 0 Converged! Residual:  1.0361262714899445e-12 Time elapsed:  0.0034170150756835938\n"
     ]
    },
    {
     "name": "stderr",
     "output_type": "stream",
     "text": [
      "\n"
     ]
    }
   ],
   "source": [
    "# numbering scheme used is k = (j-1)*N + i\n",
    "start = time.time()\n",
    "Nx = 41\n",
    "\n",
    "L = 1  # length\n",
    "M = np.zeros(Nx)  # an empty matrix\n",
    "phi = np.zeros(Nx)\n",
    "S = np.zeros(Nx)\n",
    "\n",
    "dx = L / (Nx - 1)  # Grid size\n",
    "\n",
    "tol = 1e-10\n",
    "\n",
    "aE = 1 / dx ** 2\n",
    "aW = 1 / dx ** 2\n",
    "a0 = -(2 / dx ** 2)\n",
    "\n",
    "C = 2\n",
    "phi, S = prepare_phi_and_S(Nx, phi, C)\n",
    "\n",
    "for _ in tqdm(range(100000)):\n",
    "\n",
    "    c = np.zeros(Nx - 1)\n",
    "    a = np.zeros(Nx - 1)\n",
    "    d = np.zeros(Nx)\n",
    "    Q = np.zeros(Nx)\n",
    "\n",
    "    # For Dirichlet BC\n",
    "    d[0] = 1\n",
    "\n",
    "    # Left BC\n",
    "    Q[0] = phi[0]\n",
    "\n",
    "    for i in range(1, Nx - 1):\n",
    "        # Coefficient for Tridiagonal matrix solver\n",
    "        d[i] = a0\n",
    "        a[i - 1] = aW\n",
    "        c[i] = aE\n",
    "\n",
    "        # RHS for Tri matrix\n",
    "        S[i] = np.exp(C * phi[i])\n",
    "        Q[i] = S[i]\n",
    "\n",
    "        # For Dirichlet BC\n",
    "    d[Nx - 1] = 1\n",
    "\n",
    "    # Right BC\n",
    "    Q[Nx - 1] = phi[-1]\n",
    "\n",
    "    # Solve for current row\n",
    "    phix = TRI(Nx, a, d, c, Q)\n",
    "\n",
    "    # Update current new row solution\n",
    "    phi[:] = phix\n",
    "\n",
    "    # Calculate residual\n",
    "    R2 = 0\n",
    "    R = np.zeros(Nx)\n",
    "\n",
    "    for i in range(1, Nx - 1):\n",
    "        R[i] = S[i] - aE * phi[i + 1] - aW * phi[i - 1] - a0 * phi[i]\n",
    "        R2 = R2 + R[i] ** 2\n",
    "\n",
    "    R2 = np.sqrt(R2)\n",
    "    if _ % 200 == 0:\n",
    "        clear_output(True)\n",
    "        print(\"Residual: \", R2)\n",
    "\n",
    "    if R2 < tol:\n",
    "        print('At :', _, 'Converged! Residual: ', R2, 'Time elapsed: ', time.time() - start)\n",
    "        break"
   ]
  },
  {
   "cell_type": "code",
   "execution_count": 56,
   "metadata": {},
   "outputs": [
    {
     "name": "stdout",
     "output_type": "stream",
     "text": [
      "Residual:  3.201236073245052\n"
     ]
    },
    {
     "name": "stderr",
     "output_type": "stream",
     "text": [
      "  5%|▌         | 5272/100000 [00:01<00:25, 3718.98it/s]\n"
     ]
    },
    {
     "ename": "KeyboardInterrupt",
     "evalue": "",
     "output_type": "error",
     "traceback": [
      "\u001b[0;31m---------------------------------------------------------------------------\u001b[0m",
      "\u001b[0;31mKeyboardInterrupt\u001b[0m                         Traceback (most recent call last)",
      "\u001b[1;32m/Users/cong/Desktop/Work zone/Fluids/FDM_FVM_Codes/Excercise/FD exercises/ex3.7_Non-linear_source.ipynb Cell 5\u001b[0m in \u001b[0;36m<cell line: 15>\u001b[0;34m()\u001b[0m\n\u001b[1;32m     <a href='vscode-notebook-cell:/Users/cong/Desktop/Work%20zone/Fluids/FDM_FVM_Codes/Excercise/FD%20exercises/ex3.7_Non-linear_source.ipynb#X11sZmlsZQ%3D%3D?line=19'>20</a>\u001b[0m M[i,i] \u001b[39m=\u001b[39m \u001b[39m-\u001b[39m\u001b[39m2\u001b[39m\u001b[39m/\u001b[39m(dx\u001b[39m*\u001b[39m\u001b[39m*\u001b[39m\u001b[39m2\u001b[39m)\n\u001b[1;32m     <a href='vscode-notebook-cell:/Users/cong/Desktop/Work%20zone/Fluids/FDM_FVM_Codes/Excercise/FD%20exercises/ex3.7_Non-linear_source.ipynb#X11sZmlsZQ%3D%3D?line=20'>21</a>\u001b[0m M[i,i\u001b[39m-\u001b[39m\u001b[39m1\u001b[39m] \u001b[39m=\u001b[39m \u001b[39m1\u001b[39m\u001b[39m/\u001b[39m(dx\u001b[39m*\u001b[39m\u001b[39m*\u001b[39m\u001b[39m2\u001b[39m)\n\u001b[0;32m---> <a href='vscode-notebook-cell:/Users/cong/Desktop/Work%20zone/Fluids/FDM_FVM_Codes/Excercise/FD%20exercises/ex3.7_Non-linear_source.ipynb#X11sZmlsZQ%3D%3D?line=21'>22</a>\u001b[0m M[i,i\u001b[39m+\u001b[39m\u001b[39m1\u001b[39m] \u001b[39m=\u001b[39m \u001b[39m1\u001b[39m\u001b[39m/\u001b[39m(dx\u001b[39m*\u001b[39;49m\u001b[39m*\u001b[39;49m\u001b[39m2\u001b[39;49m)\n\u001b[1;32m     <a href='vscode-notebook-cell:/Users/cong/Desktop/Work%20zone/Fluids/FDM_FVM_Codes/Excercise/FD%20exercises/ex3.7_Non-linear_source.ipynb#X11sZmlsZQ%3D%3D?line=23'>24</a>\u001b[0m \u001b[39m# Construct RHS matrix\u001b[39;00m\n\u001b[1;32m     <a href='vscode-notebook-cell:/Users/cong/Desktop/Work%20zone/Fluids/FDM_FVM_Codes/Excercise/FD%20exercises/ex3.7_Non-linear_source.ipynb#X11sZmlsZQ%3D%3D?line=24'>25</a>\u001b[0m S[i] \u001b[39m=\u001b[39m np\u001b[39m.\u001b[39mexp(\u001b[39m2\u001b[39m\u001b[39m*\u001b[39mphi[i])\n",
      "\u001b[0;31mKeyboardInterrupt\u001b[0m: "
     ]
    }
   ],
   "source": [
    "N=41    # Number of grid points\n",
    "L = 1   # length\n",
    "M = np.zeros((N,N)) # an empty matrix\n",
    "S = np.zeros(N)\n",
    "phi = np.zeros(N)\n",
    "dx = L/(N-1)    # Grid size\n",
    "\n",
    "# Left BCs\n",
    "M[0,0]=1\n",
    "S[0] = 0\n",
    "\n",
    "# Right BCs\n",
    "M[N-1,N-1] = 1\n",
    "S[-1] = 1\n",
    "for _ in tqdm(range(100000)):\n",
    "\n",
    "    # Construct Sparse Matrix\n",
    "    # Interior\n",
    "    for i in range(1,N-1):\n",
    "        M[i,i] = -2/(dx**2)\n",
    "        M[i,i-1] = 1/(dx**2)\n",
    "        M[i,i+1] = 1/(dx**2)\n",
    "        \n",
    "        # Construct RHS matrix\n",
    "        S[i] = np.exp(2*phi[i])\n",
    "\n",
    "    # Numerical method\n",
    "    phi = np.matmul(np.linalg.inv(M),S)\n",
    "\n",
    "    R = np.linalg.inv(M)@S\n",
    "    for i in range(1, Nx - 1):\n",
    "        R2 = R2 + R[i] ** 2\n",
    "\n",
    "    R2 = np.sqrt(R2)\n",
    "    if _ % 200 == 0:\n",
    "        clear_output(True)\n",
    "        print(\"Residual: \", R2)\n",
    "\n",
    "    if R2 < tol:\n",
    "        print('At :', _, 'Converged! Residual: ', R2, 'Time elapsed: ', time.time() - start)\n",
    "        break"
   ]
  },
  {
   "cell_type": "code",
   "execution_count": 55,
   "metadata": {},
   "outputs": [
    {
     "data": {
      "text/plain": [
       "[<matplotlib.lines.Line2D at 0x7f9a5f34e070>]"
      ]
     },
     "execution_count": 55,
     "metadata": {},
     "output_type": "execute_result"
    },
    {
     "data": {
      "image/png": "[encoded data removed]",
      "text/plain": [
       "<Figure size 432x288 with 1 Axes>"
      ]
     },
     "metadata": {
      "needs_background": "light"
     },
     "output_type": "display_data"
    }
   ],
   "source": [
    "# Analytical solution\n",
    "x = np.linspace(0,1,Nx)\n",
    "\n",
    "plt.plot(x,phi)\n",
    "\n",
    "\n",
    "\n",
    "\n"
   ]
  },
  {
   "cell_type": "code",
   "execution_count": 43,
   "metadata": {},
   "outputs": [
    {
     "data": {
      "text/plain": [
       "[<matplotlib.lines.Line2D at 0x7f9a5e248460>]"
      ]
     },
     "execution_count": 43,
     "metadata": {},
     "output_type": "execute_result"
    },
    {
     "data": {
      "image/png": "[encoded data removed]",
      "text/plain": [
       "<Figure size 432x288 with 1 Axes>"
      ]
     },
     "metadata": {
      "needs_background": "light"
     },
     "output_type": "display_data"
    }
   ],
   "source": [
    "plt.plot(R)"
   ]
  },
  {
   "cell_type": "code",
   "execution_count": null,
   "metadata": {},
   "outputs": [],
   "source": []
  }
 ],
 "metadata": {
  "kernelspec": {
   "display_name": "base",
   "language": "python",
   "name": "python3"
  },
  "language_info": {
   "codemirror_mode": {
    "name": "ipython",
    "version": 3
   },
   "file_extension": ".py",
   "mimetype": "text/x-python",
   "name": "python",
   "nbconvert_exporter": "python",
   "pygments_lexer": "ipython3",
   "version": "3.8.8"
  },
  "orig_nbformat": 4,
  "vscode": {
   "interpreter": {
    "hash": "2460100f35260ee208a5b94ebee5fc1cad5cb9ab1fd7acad2861fa8fa1dd8046"
   }
  }
 },
 "nbformat": 4,
 "nbformat_minor": 2
}
